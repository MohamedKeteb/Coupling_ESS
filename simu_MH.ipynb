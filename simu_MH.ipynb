{
 "cells": [
  {
   "cell_type": "code",
   "execution_count": 14,
   "id": "f06dfcb0",
   "metadata": {},
   "outputs": [],
   "source": [
    "import matplotlib as plt \n",
    "from tqdm import tqdm\n",
    "import numpy as np\n",
    "from MH_coupling import *"
   ]
  },
  {
   "cell_type": "code",
   "execution_count": 15,
   "id": "32631c67",
   "metadata": {},
   "outputs": [],
   "source": [
    "def U(x):\n",
    "    return np.abs(x-2)"
   ]
  },
  {
   "cell_type": "code",
   "execution_count": null,
   "id": "38e79bcd",
   "metadata": {},
   "outputs": [
    {
     "ename": "TypeError",
     "evalue": "float() argument must be a string or a real number, not 'function'",
     "output_type": "error",
     "traceback": [
      "\u001b[31m---------------------------------------------------------------------------\u001b[39m",
      "\u001b[31mTypeError\u001b[39m                                 Traceback (most recent call last)",
      "\u001b[36mCell\u001b[39m\u001b[36m \u001b[39m\u001b[32mIn[17]\u001b[39m\u001b[32m, line 6\u001b[39m\n\u001b[32m      4\u001b[39m y_init = np.random.randn(\u001b[32m1\u001b[39m)\n\u001b[32m      5\u001b[39m n_iter = \u001b[32m100\u001b[39m\n\u001b[32m----> \u001b[39m\u001b[32m6\u001b[39m samples = \u001b[43mmetropolis_sampler\u001b[49m\u001b[43m(\u001b[49m\u001b[43mx_init\u001b[49m\u001b[43m,\u001b[49m\u001b[43m \u001b[49m\u001b[43mv\u001b[49m\u001b[43m,\u001b[49m\u001b[43m \u001b[49m\u001b[43mU\u001b[49m\u001b[43m,\u001b[49m\u001b[43m \u001b[49m\u001b[43mn_iter\u001b[49m\u001b[43m)\u001b[49m\n\u001b[32m      7\u001b[39m \u001b[38;5;28mprint\u001b[39m(samples)\n",
      "\u001b[36mFile \u001b[39m\u001b[32m~/work/Coupling_ESS/MH_coupling.py:30\u001b[39m, in \u001b[36mmetropolis_sampler\u001b[39m\u001b[34m(x_int, U, v, n_iter)\u001b[39m\n\u001b[32m     28\u001b[39m x = x_int\n\u001b[32m     29\u001b[39m \u001b[38;5;28;01mfor\u001b[39;00m _ \u001b[38;5;129;01min\u001b[39;00m \u001b[38;5;28mrange\u001b[39m(n_iter):\n\u001b[32m---> \u001b[39m\u001b[32m30\u001b[39m     x = \u001b[43mmetropolis_step\u001b[49m\u001b[43m(\u001b[49m\u001b[43mx\u001b[49m\u001b[43m,\u001b[49m\u001b[43mv\u001b[49m\u001b[43m,\u001b[49m\u001b[43mU\u001b[49m\u001b[43m)\u001b[49m\n\u001b[32m     31\u001b[39m     samples.append(x)\n\u001b[32m     32\u001b[39m \u001b[38;5;28;01mreturn\u001b[39;00m samples\n",
      "\u001b[36mFile \u001b[39m\u001b[32m~/work/Coupling_ESS/MH_coupling.py:15\u001b[39m, in \u001b[36mmetropolis_step\u001b[39m\u001b[34m(x, v, U)\u001b[39m\n\u001b[32m      3\u001b[39m \u001b[38;5;28;01mdef\u001b[39;00m\u001b[38;5;250m \u001b[39m\u001b[34mmetropolis_step\u001b[39m(x, v, U):\n\u001b[32m      4\u001b[39m \u001b[38;5;250m    \u001b[39m\u001b[33;03m\"\"\"\u001b[39;00m\n\u001b[32m      5\u001b[39m \u001b[33;03m    Metropolis sampler single step.\u001b[39;00m\n\u001b[32m      6\u001b[39m \n\u001b[32m   (...)\u001b[39m\u001b[32m     13\u001b[39m \u001b[33;03m    - next state (float)\u001b[39;00m\n\u001b[32m     14\u001b[39m \u001b[33;03m    \"\"\"\u001b[39;00m\n\u001b[32m---> \u001b[39m\u001b[32m15\u001b[39m     proposal = x + \u001b[43mnp\u001b[49m\u001b[43m.\u001b[49m\u001b[43mrandom\u001b[49m\u001b[43m.\u001b[49m\u001b[43mnormal\u001b[49m\u001b[43m(\u001b[49m\u001b[32;43m0\u001b[39;49m\u001b[43m,\u001b[49m\u001b[43m \u001b[49m\u001b[43mv\u001b[49m\u001b[43m)\u001b[49m\n\u001b[32m     16\u001b[39m     log_u = np.log(np.random.uniform(\u001b[32m0\u001b[39m, \u001b[32m1\u001b[39m))\n\u001b[32m     18\u001b[39m     \u001b[38;5;66;03m# Calcul du critère d'acceptation\u001b[39;00m\n",
      "\u001b[36mFile \u001b[39m\u001b[32mnumpy/random/mtrand.pyx:1576\u001b[39m, in \u001b[36mnumpy.random.mtrand.RandomState.normal\u001b[39m\u001b[34m()\u001b[39m\n",
      "\u001b[36mFile \u001b[39m\u001b[32mnumpy/random/_common.pyx:609\u001b[39m, in \u001b[36mnumpy.random._common.cont\u001b[39m\u001b[34m()\u001b[39m\n",
      "\u001b[31mTypeError\u001b[39m: float() argument must be a string or a real number, not 'function'"
     ]
    }
   ],
   "source": [
    "if __name__ == \"__main__\":\n",
    "    v = 0.1\n",
    "    x_init = np.random.randn(1)\n",
    "    y_init = np.random.randn(1)\n",
    "    n_iter = 100\n",
    "    samples = metropolis_sampler(x_init, v, U, n_iter)\n",
    "    print(samples)\n"
   ]
  },
  {
   "cell_type": "code",
   "execution_count": 10,
   "id": "4b075235",
   "metadata": {},
   "outputs": [
    {
     "data": {
      "text/plain": [
       "numpy.ndarray"
      ]
     },
     "execution_count": 10,
     "metadata": {},
     "output_type": "execute_result"
    }
   ],
   "source": [
    "type(samples[0])"
   ]
  },
  {
   "cell_type": "code",
   "execution_count": 12,
   "id": "67cbe9a7",
   "metadata": {},
   "outputs": [
    {
     "data": {
      "text/plain": [
       "numpy.float64"
      ]
     },
     "execution_count": 12,
     "metadata": {},
     "output_type": "execute_result"
    }
   ],
   "source": [
    "type(np.log(6))"
   ]
  },
  {
   "cell_type": "code",
   "execution_count": null,
   "id": "598acc05",
   "metadata": {},
   "outputs": [],
   "source": []
  }
 ],
 "metadata": {
  "kernelspec": {
   "display_name": "Python 3",
   "language": "python",
   "name": "python3"
  },
  "language_info": {
   "codemirror_mode": {
    "name": "ipython",
    "version": 3
   },
   "file_extension": ".py",
   "mimetype": "text/x-python",
   "name": "python",
   "nbconvert_exporter": "python",
   "pygments_lexer": "ipython3",
   "version": "3.12.9"
  }
 },
 "nbformat": 4,
 "nbformat_minor": 5
}

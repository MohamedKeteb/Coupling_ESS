{
 "cells": [
  {
   "cell_type": "code",
   "execution_count": 3,
   "id": "220d4427",
   "metadata": {},
   "outputs": [],
   "source": [
    "import numpy as np\n",
    "import matplotlib.pyplot as plt\n",
    "from scipy.stats import multivariate_normal"
   ]
  },
  {
   "cell_type": "code",
   "execution_count": 4,
   "id": "287cc1f6",
   "metadata": {},
   "outputs": [],
   "source": [
    "from main import *"
   ]
  },
  {
   "cell_type": "code",
   "execution_count": null,
   "id": "a40bc8aa",
   "metadata": {},
   "outputs": [],
   "source": [
    "\n",
    "# === Paramètres de la Gaussienne ===\n",
    "m = np.ones(d)                 # Moyenne\n",
    "v = 2 * np.eye(d)\n",
    "\n",
    "# === Génération d'échantillons fictifs (remplace par tes samples ESS) ===\n",
    "samples = elliptical_slice_sampling(x_init, m, v)\n",
    "\n",
    "# === Tracé des échantillons ===\n",
    "plt.figure(figsize=(6,6))\n",
    "plt.scatter(samples[:, 0], samples[:, 1], alpha=0.3, label='Samples')\n",
    "\n",
    "# === Grille pour les lignes de niveau ===\n",
    "x, y = np.mgrid[-4:4:.05, -4:4:.05]\n",
    "pos = np.dstack((x, y))\n",
    "rv = multivariate_normal(mean=m, cov=v)\n",
    "\n",
    "# === Contours (lignes de niveau de densité) ===\n",
    "plt.contour(x, y, rv.pdf(pos), levels=6, colors='black', alpha=0.6)\n",
    "\n",
    "plt.title(\"Samples and Gaussian Contours\")\n",
    "plt.xlabel(\"x₁\")\n",
    "plt.ylabel(\"x₂\")\n",
    "plt.axis('equal')\n",
    "plt.grid(True)\n",
    "plt.legend()\n",
    "plt.show()\n"
   ]
  },
  {
   "cell_type": "code",
   "execution_count": null,
   "id": "420ea862",
   "metadata": {},
   "outputs": [],
   "source": [
    "if __name__ == \"__main__\":\n",
    "    d = 2  # Dimension\n",
    "    m = np.ones(d)\n",
    "    v = 2*np.eye(d)\n",
    "\n",
    "    x_init = np.random.randn(d)\n",
    "    n_iter = 1000\n",
    "\n",
    "    samples = elliptical_slice_sampling(x_init, m, v, n_iter)\n",
    "\n",
    "    print(\"sample:\", samples)"
   ]
  }
 ],
 "metadata": {
  "kernelspec": {
   "display_name": "Python 3",
   "language": "python",
   "name": "python3"
  },
  "language_info": {
   "codemirror_mode": {
    "name": "ipython",
    "version": 3
   },
   "file_extension": ".py",
   "mimetype": "text/x-python",
   "name": "python",
   "nbconvert_exporter": "python",
   "pygments_lexer": "ipython3",
   "version": "3.12.9"
  }
 },
 "nbformat": 4,
 "nbformat_minor": 5
}
